{
 "cells": [
  {
   "cell_type": "markdown",
   "metadata": {},
   "source": [
    "# MVC (Multi-Variate Calculus), Spring 2022\n",
    "#### Numerical Estimation Integrator \n",
    "\n",
    "(yes, this is copied from the readme...but it's here for when I want to export the ipynb only)\n",
    "\n",
    ">\"the deeper into \\[complex\\] math/physics you go...there is a tension bewtween making problems that are easy to solve, but also boring and pointless, with problems that are interesting, but harder to solve\" \n",
    ">\n",
    "> \\- my math teacher Andrew Alexander\n",
    "\n",
    "Multi-variate calculus can be a fickle subject. Besides terrible colour projections on 3-dimensional graphs and strange countour lines, we cannot even properly visualise functions or expressions with dimensionality greater than 3. When students learn about line integrals (a.k.a. path integrals), a problem arises. How do we create interesting integrals for students? The short answer, as the above quote suggests, is that we have two choices, either making boring integrals, which means students don't get the opportunity to be \"in the weeds,\" solving realistic problems, or we choose integrals that work out in such a way that they are difficult to solve by hand (as another MVC teacher put the integral this program was written to solve, \"I don't even know where to start with this\"). In such situations, it is useful to have a calculator to be able to numerically estimate such integrals. This is such a calculator.\n",
    "\n",
    "Additionally, this calculator can be used for non-multivariable (though it does require pre-parameterisation such that there is only one input and one output variable in MVC contexts) applications, though admittedly, if you are currently learning single-variable calculus, be honest and do your homework without cheating. It'll help you out a lot, trust me. This program for my MVC class was born out of a single-variable calculus concept, so that's at minimum proof that the concepts covered here are applicable."
   ]
  },
  {
   "cell_type": "markdown",
   "metadata": {},
   "source": [
    "#### This code defines all the necessary functions, and imports necessary libraries:\n",
    "\n",
    "i.e. just run this and don't worry about it, unless you're curious about how the calculator works\n",
    "\n",
    "alternatively, you could alter it to change the numerical integration algorithm, such as creating trapezoidal approximations for the function instead of rectangular ones, but it does take some effort."
   ]
  },
  {
   "cell_type": "code",
   "execution_count": 1,
   "metadata": {},
   "outputs": [],
   "source": [
    "# ----- import important libraries -----\n",
    "\n",
    "from cmath import pi\n",
    "import math\n",
    "import pprint\n",
    "import argparse\n",
    "\n",
    "import numpy as np\n",
    "import matplotlib.pyplot as plt\n",
    "import matplotlib.patches as ptch\n",
    "\n",
    "# ----- define helpful built-in functions -----\n",
    "\n",
    "\n",
    "def __sumList__(input_list: list):\n",
    "    \"\"\"\n",
    "\n",
    "    sums the numerical values of a list\n",
    "\n",
    "    Parameters:\n",
    "    -----------\n",
    "\n",
    "    input_list: list\n",
    "        list containing the numbers to be summed\n",
    "\n",
    "    Returns:\n",
    "    --------\n",
    "\n",
    "    sum: number (int, float, etc.)\n",
    "        sum of the numbers in the input_list\n",
    "\n",
    "    \"\"\"\n",
    "\n",
    "    sum = 0\n",
    "    for element in input_list:\n",
    "        sum += element\n",
    "\n",
    "    return sum\n",
    "\n",
    "# ----- define a two-variable integral estimation function -----\n",
    "\n",
    "\n",
    "def estimateDefinedIntegral(function, lower, upper, steps):\n",
    "    \"\"\"\n",
    "\n",
    "    a numerical method of estimating the value of a defined integral (hopefully one that is unsolvable symbollically)\n",
    "\n",
    "    Parameters:\n",
    "    -----------\n",
    "\n",
    "    function: function reference (use lambda)\n",
    "        lambda expression representing what the function is integrating for (the integrand). must be formatted in the numpy style (https://www.geeksforgeeks.org/numpy-mathematical-function/) with variable x.\n",
    "\n",
    "    lower: number (int, float, etc.)\n",
    "        number representing the lower bound for definite integration.\n",
    "\n",
    "    upper: number (int, float, etc.)\n",
    "        number representing the upper bound for definite integration.\n",
    "\n",
    "    step_size: number (int, float, etc.)\n",
    "        number representing the step count to use for estimation of definite integration.\n",
    "\n",
    "    Returns:\n",
    "    --------\n",
    "\n",
    "    sum: number (int, float, etc.)\n",
    "        number representing the numerical estimation of the definite integral.\n",
    "\n",
    "    step_values: list\n",
    "        list containing the x values at which rectangular approximations are calculated, mostly for the purpose of creating a pretty plot.\n",
    "\n",
    "    step_heights: list\n",
    "        list containing the y values derived from the step_values, mostly for the purpose of creating a pretty plot.\n",
    "\n",
    "    step_width: number (int, float, etc.)\n",
    "        number representing the distance between x-steps used for numerical integration, mostly for the purposes of creating a pretty plot.\n",
    "\n",
    "    \"\"\"\n",
    "\n",
    "    # ----- calculate the size of steps needed in the range -----\n",
    "\n",
    "    step_size = (upper - lower)/steps\n",
    "\n",
    "    # ----- calculate the height of each step in the range, calculated on the lower bound -----\n",
    "\n",
    "    step_values = []\n",
    "    for i in range(0, steps):\n",
    "        step_values.append((step_size * i) + lower)\n",
    "\n",
    "    step_heights = []\n",
    "    for value in step_values:\n",
    "        step_heights.append(function(value))\n",
    "\n",
    "    # ----- sum the step_heights * step_values, then return it as a numerical estimation -----\n",
    "    areas_list = []\n",
    "    for i in range(0, len(step_values)):\n",
    "        areas_list.append(step_size * step_heights[i])\n",
    "\n",
    "    # # for debugging purposes\n",
    "    # pprint.pprint(step_values)\n",
    "    # pprint.pprint(step_heights)\n",
    "    # pprint.pprint(areas_list)\n",
    "\n",
    "    # return the sum and plot\n",
    "    return __sumList__(areas_list), step_values, step_heights, step_size\n",
    "\n",
    "# ----- define a two-variable numerical integration grapher function -----\n",
    "\n",
    "\n",
    "def graphDefinedIntegralEstimation(function, step_values, step_heights, step_size, graph_x_offset=100, graph_y_offset=100):\n",
    "    \"\"\"\n",
    "\n",
    "    creates a pretty graph of a numerical integration estimation using matplotlib\n",
    "\n",
    "    Parameters:\n",
    "    -----------\n",
    "\n",
    "    function: function reference (use lambda)\n",
    "        lambda expression representing what the function is integrating for (the integrand). must be formatted in the numpy style (https://www.geeksforgeeks.org/numpy-mathematical-function/) with variable x.\n",
    "\n",
    "    step_values: list\n",
    "        list containing the x values at which rectangular approximations are calculated.\n",
    "\n",
    "    step_heights: list\n",
    "        list containing the y values derived from the step_values.\n",
    "\n",
    "    step_width: number (int, float, etc.)\n",
    "        number representing the distance between x-steps used for numerical integration.\n",
    "\n",
    "    graph_x_offset: int (optional)\n",
    "        integer representing the offset to be used for the graph in the x direction. defaults to 100.\n",
    "\n",
    "    graph_y_offset: int (optional)\n",
    "        integer representing the offset to be used for the graph in the y direction. defaults to 100.\n",
    "\n",
    "    Returns:\n",
    "    --------\n",
    "\n",
    "    plot: matplotlib plot object\n",
    "        plot object from matplotlib, containing the graph of the numerical integration estimation.\n",
    "\n",
    "    \"\"\"\n",
    "\n",
    "    fig, ax = plt.subplots()\n",
    "\n",
    "    # plot settings\n",
    "    plt.title('two-variable numerical integral estimation')\n",
    "    plt.ylabel('f(x)')\n",
    "    plt.xlabel('x')\n",
    "\n",
    "    plt.axhline(0, color='grey')  # x = 0\n",
    "    plt.axvline(0, color='grey')  # y = 0\n",
    "\n",
    "    # plot rectangle approximations\n",
    "    for i in range(0, len(step_values)):\n",
    "\n",
    "        # for values >= 0:\n",
    "        if step_heights[i] >= 0:\n",
    "            ax.add_patch(ptch.Rectangle(\n",
    "                (step_values[i], 0), step_size, step_heights[i], alpha=0.5, ec=\"black\"))\n",
    "\n",
    "        # for values < 0:\n",
    "        else:\n",
    "            ax.add_patch(ptch.Rectangle(\n",
    "                (step_values[i], step_heights[i]), step_size, -step_heights[i], alpha=0.5, ec=\"black\"))\n",
    "\n",
    "    # ensure correct x-y axis, according to the given offsets\n",
    "    x_range = (step_values[0] - graph_x_offset,\n",
    "               step_values[-1] + step_size + graph_x_offset)\n",
    "    y_range = (step_heights[0] - graph_y_offset,\n",
    "               step_heights[-1] + graph_y_offset)\n",
    "\n",
    "    plt.xlim(x_range)\n",
    "    plt.ylim(y_range)\n",
    "\n",
    "    # plot function approximation as a curve/line\n",
    "    x_curve_values = np.linspace(x_range[0]*10000, x_range[1]*10000, 10000000)\n",
    "    y_curve_values = function(x_curve_values)\n",
    "    plt.plot(x_curve_values, y_curve_values, color=\"red\")\n",
    "\n",
    "    # plot points used to calculate rectangle approximation areas\n",
    "    plt.scatter(step_values, step_heights, marker='o', color=\"black\", s=10)\n",
    "\n",
    "    return plt\n"
   ]
  },
  {
   "cell_type": "markdown",
   "metadata": {},
   "source": [
    "#### Change the following variables for your specific problem:"
   ]
  },
  {
   "cell_type": "code",
   "execution_count": 9,
   "metadata": {},
   "outputs": [],
   "source": [
    "function_string = \"(np.sin(x) * np.cos(x**2) + 5) * (np.sqrt(1 + 4*x**2))\" #this represents the function (integrand) you are integrating for\n",
    "\n",
    "\n",
    "# remember that it must be formatted in the numpy style, but in a string! (https://www.geeksforgeeks.org/numpy-mathematical-function/)\n",
    "# for the problem I wrote this program for, the string is \"(np.sin(x) * np.cos(x**2) + 5) * (np.sqrt(1 + 4*x**2))\"\n",
    "\n",
    "lower = 0 #this represents the lower bound to numerically integrate across\n",
    "upper = 2*pi #this represents the upper bound to numerically integrate across\n",
    "steps = 100 #this is the number of rectangles to use to estimate the integral\n",
    "\n",
    "x_offset = 5 #this represents the units of graph excess in the x direction\n",
    "y_offset = 5 #this represents the units of graph excess in the y direction"
   ]
  },
  {
   "cell_type": "markdown",
   "metadata": {},
   "source": [
    "#### Then, run this cell to get a numerical answer to your integration problem:"
   ]
  },
  {
   "cell_type": "code",
   "execution_count": 10,
   "metadata": {},
   "outputs": [
    {
     "name": "stdout",
     "output_type": "stream",
     "text": [
      "numerically integrating (np.sin(x) * np.cos(x**2) + 5) * (np.sqrt(1 + 4*x**2)), from 0 to 6.283185307179586, using 100 rectangles.\n",
      "result: 199.864021077379 \n",
      "\n"
     ]
    }
   ],
   "source": [
    "def f(x): return eval(function_string)\n",
    "\n",
    "# estimator\n",
    "print(f\"numerically integrating {function_string}, from {str(lower)} to {str(upper)}, using {str(steps)} rectangles.\")\n",
    "sum, step_values, step_heights, step_size = estimateDefinedIntegral(f, lower, upper, steps)\n",
    "print(f\"result: {str(sum)} \\n\")"
   ]
  },
  {
   "cell_type": "markdown",
   "metadata": {},
   "source": [
    "#### And if you want to see a graphical representation of this estimation, run this:\n",
    "\n",
    "plot not looking right? here are some tips for things to check:\n",
    "- check your offsets; it's possible you forgot to set them properly\n",
    "- everything under the curve look black? probably because you integrated across a large number of rectangles, but it doesn't change the calculation any."
   ]
  },
  {
   "cell_type": "code",
   "execution_count": 11,
   "metadata": {},
   "outputs": [
    {
     "name": "stdout",
     "output_type": "stream",
     "text": [
      "creating plot of the integration... \n",
      "\n"
     ]
    },
    {
     "data": {
      "image/png": "[encoded data removed]",
      "text/plain": [
       "<Figure size 432x288 with 1 Axes>"
      ]
     },
     "metadata": {
      "needs_background": "light"
     },
     "output_type": "display_data"
    }
   ],
   "source": [
    "# grapher, using the results from the estimator\n",
    "print(\"creating plot of the integration... \\n\")\n",
    "plot = graphDefinedIntegralEstimation(f, step_values, step_heights, step_size, graph_x_offset=x_offset, graph_y_offset=y_offset)\n",
    "plot.show()"
   ]
  },
  {
   "cell_type": "code",
   "execution_count": null,
   "metadata": {},
   "outputs": [],
   "source": []
  }
 ],
 "metadata": {
  "interpreter": {
   "hash": "31f2aee4e71d21fbe5cf8b01ff0e069b9275f58929596ceb00d14d90e3e16cd6"
  },
  "kernelspec": {
   "display_name": "Python 3.8.2 64-bit",
   "language": "python",
   "name": "python3"
  },
  "language_info": {
   "codemirror_mode": {
    "name": "ipython",
    "version": 3
   },
   "file_extension": ".py",
   "mimetype": "text/x-python",
   "name": "python",
   "nbconvert_exporter": "python",
   "pygments_lexer": "ipython3",
   "version": "3.8.2"
  },
  "orig_nbformat": 4
 },
 "nbformat": 4,
 "nbformat_minor": 2
}
